{
 "cells": [
  {
   "cell_type": "code",
   "execution_count": 1,
   "metadata": {},
   "outputs": [
    {
     "data": {
      "text/plain": [
       "'/media/Ubuntu/meg/mlprojects/Semantic_Segmentation_for_self_driving_cars'"
      ]
     },
     "execution_count": 1,
     "metadata": {},
     "output_type": "execute_result"
    }
   ],
   "source": [
    "import os\n",
    "os.chdir('../')\n",
    "%pwd"
   ]
  },
  {
   "cell_type": "code",
   "execution_count": 2,
   "metadata": {},
   "outputs": [
    {
     "name": "stderr",
     "output_type": "stream",
     "text": [
      "2023-09-25 13:28:03.829892: I tensorflow/core/platform/cpu_feature_guard.cc:182] This TensorFlow binary is optimized to use available CPU instructions in performance-critical operations.\n",
      "To enable the following instructions: AVX2 FMA, in other operations, rebuild TensorFlow with the appropriate compiler flags.\n",
      "2023-09-25 13:28:04.473026: W tensorflow/compiler/tf2tensorrt/utils/py_utils.cc:38] TF-TRT Warning: Could not find TensorRT\n"
     ]
    }
   ],
   "source": [
    "import tensorflow as tf\n",
    "import numpy as np\n",
    "import matplotlib.pyplot as plt\n",
    "import matplotlib.image as mpimg\n",
    "import cv2\n",
    "import glob"
   ]
  },
  {
   "cell_type": "code",
   "execution_count": 3,
   "metadata": {},
   "outputs": [],
   "source": [
    "\n",
    "from src.components.data_preparation import DataIngestion\n",
    "\n",
    "from src.components.callbacks import PrepareCallback\n",
    "from src.components.model import PrepareModel\n",
    "from src.config.configuration import ConfigurationManager\n",
    "from src.entity.config_entity import DataIngestionConfig, PrepareCallbackConfig, PrepareModelConfig\n",
    "\n"
   ]
  },
  {
   "cell_type": "code",
   "execution_count": 4,
   "metadata": {},
   "outputs": [],
   "source": [
    "from src.components.data_preparation import DataIngestion\n",
    "from src.config.configuration import ConfigurationManager\n"
   ]
  },
  {
   "cell_type": "code",
   "execution_count": 5,
   "metadata": {},
   "outputs": [],
   "source": [
    "class DataPreprocessing:\n",
    "    def __init__(self, img_list: list, mask_list: list):\n",
    "        self.img_list = img_list\n",
    "        self.mask_list = mask_list\n",
    "\n",
    "    @staticmethod\n",
    "    def process_path(img_path, mask_path):\n",
    "        img = tf.io.read_file(img_path)\n",
    "        img = tf.image.decode_png(img, channels=3)\n",
    "        img= tf.image.convert_image_dtype(img,tf.float32)\n",
    "\n",
    "        mask = tf.io.read_file(mask_path)\n",
    "        mask = tf.image.decode_png(mask, channels=3)\n",
    "        mask = tf.math.reduce_max(mask,axis =-1, keepdims=True)\n",
    "\n",
    "        return img, mask\n",
    "\n",
    "    @staticmethod\n",
    "    def preprocess(image, mask):\n",
    "        input_image=tf.image.resize(image,(192,256), method='nearest')\n",
    "        input_mask=tf.image.resize(mask,(192,256),method='nearest')\n",
    "\n",
    "        return input_image, input_mask\n",
    "\n",
    "\n",
    "\n",
    "    def data_preprocessing(self):\n",
    "\n",
    "        #Combining images and masks into tensor pairs\n",
    "        image_filenames = tf.constant(self.img_list)\n",
    "        mask_filenames = tf.constant(self.mask_list)\n",
    "        dataset = tf.data.Dataset.from_tensor_slices((image_filenames, mask_filenames))\n",
    "\n",
    "            \n",
    "\n",
    "        image_ds = dataset.map(self.process_path)\n",
    "        processed_image_ds = image_ds.map(self.preprocess) \n",
    "\n",
    "        return processed_image_ds\n",
    "    \n",
    "\n",
    "         "
   ]
  },
  {
   "cell_type": "code",
   "execution_count": 6,
   "metadata": {},
   "outputs": [
    {
     "name": "stdout",
     "output_type": "stream",
     "text": [
      "[2023-09-25 13:28:05,904: INFO: common: yaml fileconfig.yamlloaded Successfully]\n",
      "[2023-09-25 13:28:05,907: INFO: common: yaml fileparams.yamlloaded Successfully]\n",
      "[2023-09-25 13:28:05,908: INFO: common: created directory at:artifacts]\n",
      "[2023-09-25 13:28:05,909: INFO: common: created directory at:/media/Ubuntu/meg/mlprojects/Semantic_Segmentation_for_self_driving_cars/archive]\n"
     ]
    }
   ],
   "source": [
    "config = ConfigurationManager()\n",
    "prepare_data_config = config.get_data_ingestion_config()\n",
    "prepare_dataset = DataIngestion(config=prepare_data_config)\n",
    "imgs_list, masks_list = prepare_dataset.prepare_data()"
   ]
  },
  {
   "cell_type": "code",
   "execution_count": 7,
   "metadata": {},
   "outputs": [],
   "source": [
    "preprocessing = DataPreprocessing(imgs_list, masks_list)"
   ]
  },
  {
   "cell_type": "code",
   "execution_count": 8,
   "metadata": {},
   "outputs": [
    {
     "name": "stderr",
     "output_type": "stream",
     "text": [
      "2023-09-25 13:28:07.978458: E tensorflow/compiler/xla/stream_executor/cuda/cuda_driver.cc:268] failed call to cuInit: CUDA_ERROR_UNKNOWN: unknown error\n",
      "2023-09-25 13:28:07.978509: I tensorflow/compiler/xla/stream_executor/cuda/cuda_diagnostics.cc:168] retrieving CUDA diagnostic information for host: megh\n",
      "2023-09-25 13:28:07.978518: I tensorflow/compiler/xla/stream_executor/cuda/cuda_diagnostics.cc:175] hostname: megh\n",
      "2023-09-25 13:28:07.978650: I tensorflow/compiler/xla/stream_executor/cuda/cuda_diagnostics.cc:199] libcuda reported version is: 535.86.10\n",
      "2023-09-25 13:28:07.978674: I tensorflow/compiler/xla/stream_executor/cuda/cuda_diagnostics.cc:203] kernel reported version is: 535.86.10\n",
      "2023-09-25 13:28:07.978681: I tensorflow/compiler/xla/stream_executor/cuda/cuda_diagnostics.cc:309] kernel version seems to match DSO: 535.86.10\n"
     ]
    }
   ],
   "source": [
    "dataset = preprocessing.data_preprocessing()"
   ]
  },
  {
   "cell_type": "code",
   "execution_count": 9,
   "metadata": {},
   "outputs": [
    {
     "data": {
      "text/plain": [
       "tensorflow.python.data.ops.map_op._MapDataset"
      ]
     },
     "execution_count": 9,
     "metadata": {},
     "output_type": "execute_result"
    }
   ],
   "source": [
    "type(dataset)"
   ]
  },
  {
   "cell_type": "code",
   "execution_count": null,
   "metadata": {},
   "outputs": [],
   "source": []
  }
 ],
 "metadata": {
  "kernelspec": {
   "display_name": "tf_env",
   "language": "python",
   "name": "python3"
  },
  "language_info": {
   "codemirror_mode": {
    "name": "ipython",
    "version": 3
   },
   "file_extension": ".py",
   "mimetype": "text/x-python",
   "name": "python",
   "nbconvert_exporter": "python",
   "pygments_lexer": "ipython3",
   "version": "3.9.18"
  },
  "orig_nbformat": 4
 },
 "nbformat": 4,
 "nbformat_minor": 2
}
